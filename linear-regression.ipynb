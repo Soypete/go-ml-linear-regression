{
 "cells": [
  {
   "cell_type": "markdown",
   "metadata": {},
   "source": [
    "# Linear Regression in Go\n",
    "\n",
    "This is a juptyer notebook implementation of an example found in _Machine Learning With Go_ by Daniel Whitenack"
   ]
  },
  {
   "cell_type": "markdown",
   "metadata": {},
   "source": [
    "## Import Data\n",
    " \n",
    "Using dataframes we import and view the data stored in a `.csv` file."
   ]
  },
  {
   "cell_type": "code",
   "execution_count": null,
   "metadata": {},
   "outputs": [],
   "source": [
    "import (\n",
    "    \"os\"\n",
    "    \"log\"\n",
    "    \"fmt\"\n",
    "    \n",
    "    \"github.com/kniren/gota/dataframe\"\n",
    "    )\n",
    "\n",
    "advertFile, err := os.Open(\"Advertising.csv\")\n",
    "if err != nil {\n",
    "    log.Fatal(err)\n",
    "}\n",
    "\n",
    "\n",
    "advertDF := dataframe.ReadCSV(advertFile)\n",
    "advertSummary := advertDF.Describe()\n",
    "\n",
    "fmt.Println(advertSummary)\n",
    "\n",
    "advertFile.Close()"
   ]
  },
  {
   "cell_type": "code",
   "execution_count": null,
   "metadata": {},
   "outputs": [],
   "source": [
    "import (\n",
    "    \"gonum.org/v1/plot\"\n",
    "    \"gonum.org/v1/plot/vg\"\n",
    ")\n",
    "\n",
    "for _, colName := range advertDF.Names() {\n",
    "    plotVals := make(plotter.Values, advertDF.Nrow())\n",
    "    for i, floatVal := range advertDF.Col(colName).Float() {\n",
    "        plotVals[i] = floatVal\n",
    "    }\n",
    "    \n",
    "    p, err := plot.New()\n",
    "    if err != nil {\n",
    "        log.Fatal(err)\n",
    "    }\n",
    "    p.Title.Text = fmt.Sprintf(\"Histogram of a %s\", colName)\n",
    "    \n",
    "    h, err := plotter.NewHist(plotVals, 16)\n",
    "    if err != nil {\n",
    "        log.Fatal(err)\n",
    "    }\n",
    "    \n",
    "    h.Normalize(1)\n",
    "    \n",
    "    p.Add(h)\n",
    "    \n",
    "    if err := p.Save(4*vg.Inch, 4*vg.Inch, \"graphs/\"+colName+\"_hist.png\"); err !=nil {\n",
    "        log.Fatal(err)\n",
    "    }\n",
    "}\n",
    "\n"
   ]
  },
  {
   "cell_type": "code",
   "execution_count": null,
   "metadata": {},
   "outputs": [],
   "source": [
    "import \"gonum.org/v1/plot/plotter\"\n",
    "\n",
    "// we are comparing all of the other columns to the Sales column making Sales the indepent Variable\n",
    "ySales := advertDF.Col(\"Sales\").Float()\n",
    "\n",
    "for _, colName := range advertDF.Names() {\n",
    "    pts := make(plotter.XYs, advertDF.Nrow())\n",
    "    \n",
    "    for i, floatVal := range advertDF.Col(colName).Float(){\n",
    "        pts[i].X = floatVal\n",
    "        pts[i].Y = ySales[i]\n",
    "    }\n",
    "    \n",
    "    p, err := plot.New()\n",
    "    if err != nil {\n",
    "        log.Fatal(err)\n",
    "    }\n",
    "    p.X.Label.Text = colName\n",
    "    p.Y.Label.Text = \"y\"\n",
    "    p.Add(plotter.NewGrid())\n",
    "    \n",
    "    \n",
    "    fmt. prin\n",
    "    s, err := plotter.NewScatter(pts)\n",
    "    if err != nil {\n",
    "        log.Fatal(err)\n",
    "    }\n",
    "    s.GlyphStyle.Radius = vg.Points(3)\n",
    "    \n",
    "    p.Add(s)\n",
    "    \n",
    "    if err := p.Save(4*vg.Inch, 4*vg.Inch, \"graphs/\"+colName+\"_scatter.png\"); err !=nil {\n",
    "        log.Fatal(err)\n",
    "    }\n",
    "}"
   ]
  },
  {
   "cell_type": "code",
   "execution_count": null,
   "metadata": {},
   "outputs": [],
   "source": []
  }
 ],
 "metadata": {
  "kernelspec": {
   "display_name": "Go",
   "language": "go",
   "name": "gophernotes"
  },
  "language_info": {
   "codemirror_mode": "",
   "file_extension": ".go",
   "mimetype": "",
   "name": "go",
   "nbconvert_exporter": "",
   "pygments_lexer": "",
   "version": "go1.10.2"
  }
 },
 "nbformat": 4,
 "nbformat_minor": 2
}
